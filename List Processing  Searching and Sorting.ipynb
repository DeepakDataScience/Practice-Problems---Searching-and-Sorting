{
 "cells": [
  {
   "cell_type": "markdown",
   "metadata": {},
   "source": [
    "# Searching and Sorting Concept problems"
   ]
  },
  {
   "cell_type": "markdown",
   "metadata": {},
   "source": [
    "Write a program to search an element from a list."
   ]
  },
  {
   "cell_type": "code",
   "execution_count": 13,
   "metadata": {},
   "outputs": [
    {
     "name": "stdout",
     "output_type": "stream",
     "text": [
      "Content of the list are as follows:\n",
      "[12, 23, 45, 67, 89]\n",
      "Enter the number to be searched:23\n",
      "23 is found at position 2\n"
     ]
    }
   ],
   "source": [
    "def Linear_Search(My_List, key):\n",
    "    for i in range(len(My_List)):\n",
    "        if (My_List[i]== key):\n",
    "            #print(key, 'is found at index', i)\n",
    "            return i \n",
    "            break\n",
    "    return -1\n",
    "\n",
    "My_List=[12, 23, 45, 67, 89]\n",
    "print(\"Content of the list are as follows:\")\n",
    "print(My_List)\n",
    "key=(int(input(\"Enter the number to be searched:\")))\n",
    "L1=Linear_Search(My_List, key)\n",
    "\n",
    "if (L1!=-1):\n",
    "    print(key, \"is found at position\", L1+1)\n",
    "else:\n",
    "    print(key, \"is not present in the list\")\n"
   ]
  },
  {
   "cell_type": "markdown",
   "metadata": {},
   "source": [
    "Write a program for Binary Search"
   ]
  },
  {
   "cell_type": "code",
   "execution_count": 17,
   "metadata": {},
   "outputs": [
    {
     "name": "stdout",
     "output_type": "stream",
     "text": [
      "[10, 20, 30, 34, 56, 78, 89, 90]\n",
      "ENter the number to search:56\n",
      "the element 56 is found at position 5\n"
     ]
    }
   ],
   "source": [
    "def Binary_Search(MyList, key):\n",
    "    low=0\n",
    "    high=len(MyList) - 1\n",
    "    while low<=high:\n",
    "        mid=(low + high)//2\n",
    "        if MyList[mid]==key:\n",
    "            return mid\n",
    "        elif key>MyList[mid]:\n",
    "            low=mid + 1\n",
    "        else:\n",
    "            high=mid - 1\n",
    "    return -1\n",
    "\n",
    "MyList = [10, 20 , 30 , 34, 56, 78, 89, 90]\n",
    "print(MyList)\n",
    "\n",
    "key=eval(input(\"ENter the number to search:\"))\n",
    "x=Binary_Search(MyList, key)\n",
    "\n",
    "if (x==-1):\n",
    "    print(key, 'is not present in the list')\n",
    "else:\n",
    "    print(\"the element\", key, 'is found at position', x+ 1)"
   ]
  },
  {
   "cell_type": "markdown",
   "metadata": {},
   "source": [
    "Write a program to implement bubble sort.                                                                                                                   "
   ]
  },
  {
   "cell_type": "code",
   "execution_count": 28,
   "metadata": {},
   "outputs": [
    {
     "name": "stdout",
     "output_type": "stream",
     "text": [
      "[30, 50, 45, 1, 6, 3, 20, 90, 78]\n",
      "elements of the list after sortning:[1, 3, 6, 20, 30, 45, 50, 78, 90]\n"
     ]
    }
   ],
   "source": [
    "def Bubble_sort(MyList):\n",
    "    for i in range(len(MyList)-1,0,-1):\n",
    "        for j in range(i):\n",
    "            if MyList[j]>MyList[j+1]:\n",
    "                temp, MyList[j]=MyList[j], MyList[j+1]\n",
    "                MyList[j+1]=temp\n",
    "MyList = [30,50, 45, 1, 6, 3, 20, 90, 78]\n",
    "print(MyList)\n",
    "Bubble_sort(MyList)\n",
    "print('elements of the list after sortning:', end = '')\n",
    "print(MyList)\n",
    "            \n",
    "            "
   ]
  },
  {
   "cell_type": "code",
   "execution_count": 29,
   "metadata": {},
   "outputs": [
    {
     "data": {
      "text/plain": [
       "[3, 2, 1]"
      ]
     },
     "execution_count": 29,
     "metadata": {},
     "output_type": "execute_result"
    }
   ],
   "source": [
    "L=[1,2,3,4]\n",
    "p=list(range(len(L)-1,0,-1))\n",
    "p\n"
   ]
  },
  {
   "cell_type": "markdown",
   "metadata": {},
   "source": [
    "Write a program for selection sort"
   ]
  },
  {
   "cell_type": "code",
   "execution_count": 31,
   "metadata": {},
   "outputs": [
    {
     "name": "stdout",
     "output_type": "stream",
     "text": [
      "Elements before sorting\n",
      "[12, 34, 2, 7, 45, 90, 89]\n",
      "Elements after sorting\n",
      "[2, 7, 12, 34, 45, 89, 90]\n"
     ]
    }
   ],
   "source": [
    "def selection_sort(MyList):\n",
    "    #i - outerloop\n",
    "    #j - inner loop\n",
    "    #k - index of the smallest element\n",
    "    for i in range(len(MyList) - 1):\n",
    "        k=i  #i th element is assumed to be smallest\n",
    "        for j in range(i+1, len(MyList)):\n",
    "            if (MyList[j]<MyList[k]):\n",
    "                k=j\n",
    "        if (k!=i):\n",
    "            temp=MyList[i]\n",
    "            MyList[i]=MyList[k]\n",
    "            MyList[k]=temp\n",
    "MyList=[12, 34, 2, 7, 45, 90 , 89]\n",
    "print(\"Elements before sorting\")\n",
    "print(MyList)\n",
    "selection_sort(MyList)\n",
    "print(\"Elements after sorting\")\n",
    "print(MyList)"
   ]
  },
  {
   "cell_type": "markdown",
   "metadata": {},
   "source": [
    "Insertion Sort"
   ]
  },
  {
   "cell_type": "code",
   "execution_count": 34,
   "metadata": {},
   "outputs": [
    {
     "name": "stdout",
     "output_type": "stream",
     "text": [
      "Elements before sorting:\n",
      "[12, 23, 5, 2, 21, 1, 4]\n",
      "Elements after sorting:\n",
      "[1, 2, 4, 5, 12, 21, 23]\n"
     ]
    }
   ],
   "source": [
    "def Insertion_Sort(MyList):\n",
    "    for i in range(1, len(MyList)):\n",
    "        CurrentElement=MyList[i]\n",
    "        k=i-1\n",
    "        while k >= 0 and MyList[k]> :\n",
    "            MyList[k+1]=MyList[k]\n",
    "            k = k - 1\n",
    "        \n",
    "        MyList[k+1]=CurrentElement\n",
    "MyList= [12, 23, 5, 2, 21, 1, 4]\n",
    "print('Elements before sorting:')\n",
    "print(MyList)\n",
    "Insertion_Sort(MyList)\n",
    "print('Elements after sorting:')\n",
    "print(MyList)\n"
   ]
  }
 ],
 "metadata": {
  "kernelspec": {
   "display_name": "Python 3",
   "language": "python",
   "name": "python3"
  },
  "language_info": {
   "codemirror_mode": {
    "name": "ipython",
    "version": 3
   },
   "file_extension": ".py",
   "mimetype": "text/x-python",
   "name": "python",
   "nbconvert_exporter": "python",
   "pygments_lexer": "ipython3",
   "version": "3.7.4"
  }
 },
 "nbformat": 4,
 "nbformat_minor": 2
}
